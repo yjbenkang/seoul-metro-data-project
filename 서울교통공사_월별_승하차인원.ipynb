{
 "cells": [
  {
   "cell_type": "code",
   "execution_count": 1,
   "metadata": {
    "colab": {
     "base_uri": "https://localhost:8080/"
    },
    "id": "EnkQ-CJHWw7n",
    "outputId": "e5937fe5-9162-4caa-8c40-1c15c16353c4",
    "vscode": {
     "languageId": "plaintext"
    }
   },
   "outputs": [
    {
     "name": "stdout",
     "output_type": "stream",
     "text": [
      "Requirement already satisfied: requests in /opt/anaconda3/lib/python3.12/site-packages (2.32.3)\n",
      "Requirement already satisfied: boto3 in /opt/anaconda3/lib/python3.12/site-packages (1.35.54)\n",
      "Requirement already satisfied: charset-normalizer<4,>=2 in /opt/anaconda3/lib/python3.12/site-packages (from requests) (3.4.0)\n",
      "Requirement already satisfied: idna<4,>=2.5 in /opt/anaconda3/lib/python3.12/site-packages (from requests) (3.10)\n",
      "Requirement already satisfied: urllib3<3,>=1.21.1 in /opt/anaconda3/lib/python3.12/site-packages (from requests) (2.2.3)\n",
      "Requirement already satisfied: certifi>=2017.4.17 in /opt/anaconda3/lib/python3.12/site-packages (from requests) (2024.8.30)\n",
      "Requirement already satisfied: botocore<1.36.0,>=1.35.54 in /opt/anaconda3/lib/python3.12/site-packages (from boto3) (1.35.54)\n",
      "Requirement already satisfied: jmespath<2.0.0,>=0.7.1 in /opt/anaconda3/lib/python3.12/site-packages (from boto3) (1.0.1)\n",
      "Requirement already satisfied: s3transfer<0.11.0,>=0.10.0 in /opt/anaconda3/lib/python3.12/site-packages (from boto3) (0.10.3)\n",
      "Requirement already satisfied: python-dateutil<3.0.0,>=2.1 in /opt/anaconda3/lib/python3.12/site-packages (from botocore<1.36.0,>=1.35.54->boto3) (2.9.0.post0)\n",
      "Requirement already satisfied: six>=1.5 in /opt/anaconda3/lib/python3.12/site-packages (from python-dateutil<3.0.0,>=2.1->botocore<1.36.0,>=1.35.54->boto3) (1.16.0)\n",
      "Requirement already satisfied: python-dotenv in /opt/anaconda3/lib/python3.12/site-packages (0.21.0)\n"
     ]
    }
   ],
   "source": [
    "!pip install requests boto3\n",
    "!pip install python-dotenv"
   ]
  },
  {
   "cell_type": "code",
   "execution_count": 2,
   "metadata": {
    "id": "YOAStXUEWw7o",
    "vscode": {
     "languageId": "plaintext"
    }
   },
   "outputs": [],
   "source": [
    "import requests\n",
    "import boto3\n",
    "import pandas as pd\n",
    "from io import BytesIO\n",
    "import os\n",
    "from dotenv import load_dotenv"
   ]
  },
  {
   "cell_type": "code",
   "execution_count": 3,
   "metadata": {
    "id": "37ezR8pDWw7p",
    "vscode": {
     "languageId": "plaintext"
    }
   },
   "outputs": [],
   "source": [
    "load_dotenv()\n",
    "api_key = os.getenv(\"API_KEY\")\n",
    "base_url = os.getenv(\"BASE_URL\")\n",
    "aws_access_key_id=os.getenv('S3_AWS_ACCESS_KEY_ID')\n",
    "aws_secret_access_key=os.getenv('S3_AWS_SECRET_ACCESS_KEY')\n",
    "region_name=os.getenv('S3_REGION')\n",
    "bucket_name = os.getenv('S3_BUCKET_NAME')"
   ]
  },
  {
   "cell_type": "code",
   "execution_count": 7,
   "metadata": {
    "id": "npJESXzLWw7p",
    "vscode": {
     "languageId": "plaintext"
    }
   },
   "outputs": [],
   "source": [
    "s3_client = boto3.client(\n",
    "    's3',\n",
    "    aws_access_key_id=aws_access_key_id,\n",
    "    aws_secret_access_key=aws_secret_access_key,\n",
    "    region_name=region_name\n",
    ")\n",
    "\n",
    "bucket_name = bucket_name"
   ]
  },
  {
   "cell_type": "code",
   "execution_count": 15,
   "metadata": {
    "colab": {
     "base_uri": "https://localhost:8080/",
     "height": 316
    },
    "id": "0W_DpwhTWw7q",
    "outputId": "c861f7ce-cd4f-4d23-f16c-c576a8e292e6",
    "vscode": {
     "languageId": "plaintext"
    }
   },
   "outputs": [
    {
     "name": "stdout",
     "output_type": "stream",
     "text": [
      "/15044249/v1/uddi:c2b72a04-63da-4d1c-8613-dfbd799b1a95 - Page 1 data fetched and added.\n",
      "/15044249/v1/uddi:c2b72a04-63da-4d1c-8613-dfbd799b1a95 - Page 2 data fetched and added.\n",
      "/15044249/v1/uddi:c2b72a04-63da-4d1c-8613-dfbd799b1a95 - Page 3 data fetched and added.\n",
      "/15044249/v1/uddi:c2b72a04-63da-4d1c-8613-dfbd799b1a95 - Page 4 data fetched and added.\n",
      "No more data to fetch for /15044249/v1/uddi:c2b72a04-63da-4d1c-8613-dfbd799b1a95.\n",
      "/15044249/v1/uddi:796901f7-428f-4a5e-b8cd-b0a05603e3ce - Page 1 data fetched and added.\n",
      "/15044249/v1/uddi:796901f7-428f-4a5e-b8cd-b0a05603e3ce - Page 2 data fetched and added.\n",
      "/15044249/v1/uddi:796901f7-428f-4a5e-b8cd-b0a05603e3ce - Page 3 data fetched and added.\n",
      "/15044249/v1/uddi:796901f7-428f-4a5e-b8cd-b0a05603e3ce - Page 4 data fetched and added.\n",
      "No more data to fetch for /15044249/v1/uddi:796901f7-428f-4a5e-b8cd-b0a05603e3ce.\n",
      "모든 데이터가 prod_data/서울교통공사_월별_승하차인원_전체데이터.csv 파일로 S3에 성공적으로 업로드되었습니다.\n"
     ]
    }
   ],
   "source": [
    "def fetch_and_save_data(api_endpoints, output_file):\n",
    "    \"\"\"\n",
    "    여러 API 엔드포인트에서 데이터를 가져와 하나의 CSV 파일로 저장 후 S3에 업로드합니다.\n",
    "\n",
    "    Parameters:\n",
    "    - api_endpoints (dict): 데이터를 가져올 API 엔드포인트와 날짜의 딕셔너리.\n",
    "    - output_file (str): S3에 저장할 파일 이름.\n",
    "    \"\"\"\n",
    "    # 모든 데이터를 누적할 DataFrame 초기화\n",
    "    all_data = pd.DataFrame()\n",
    "\n",
    "    # 각 API 엔드포인트에서 데이터 가져오기\n",
    "    for endpoint, date in api_endpoints.items():\n",
    "        page = 1\n",
    "        per_page = 1000\n",
    "\n",
    "        while True:\n",
    "            url = f\"{base_url}{endpoint}?page={page}&perPage={per_page}&serviceKey={api_key}\"\n",
    "\n",
    "            response = requests.get(url)\n",
    "            if response.status_code == 200:\n",
    "                data = response.json()\n",
    "                if 'data' in data and data['data']:\n",
    "                    df = pd.DataFrame(data['data'])\n",
    "                    df['date'] = date\n",
    "                    # 컬럼 이름 통일하기\n",
    "                    df.rename(columns={\n",
    "                        **{f'2022-{month}': f'{month:02}' for month in range(1, 13)},\n",
    "                        **{f'2023-{month}': f'{month:02}' for month in range(1, 13)},\n",
    "                        '상하구분': 'direction',\n",
    "                        '구분': 'direction',\n",
    "                        '출발역': 'departure_station',\n",
    "                        '역명': 'departure_station',\n",
    "                        '요일구분': 'day_type',\n",
    "                        '조사일자': 'day_type',\n",
    "                        '역번호': 'station_number',\n",
    "                        '고유역번호(외부역코드)': 'station_number',\n",
    "                        '호선': 'line',\n",
    "                        '수송연월': 'transportation_date',\n",
    "                        '승하차인원수': 'passenger_count'\n",
    "                    }, inplace=True)\n",
    "\n",
    "                    if '연번' in df.columns:\n",
    "                        df.drop(columns=['연번'], inplace=True)\n",
    "                    all_data = pd.concat([all_data, df], ignore_index=True)\n",
    "                    print(f\"{endpoint} - Page {page} data fetched and added.\")\n",
    "                else:\n",
    "                    print(f\"No more data to fetch for {endpoint}.\")\n",
    "                    break\n",
    "            else:\n",
    "                print(f\"Failed to fetch data from {endpoint} on page {page}: {response.status_code}\")\n",
    "                break\n",
    "\n",
    "            page += 1\n",
    "\n",
    "    # 최종 데이터를 CSV로 변환하고 S3에 업로드\n",
    "    csv_buffer = BytesIO()\n",
    "    all_data.to_csv(csv_buffer, index=False, encoding='utf-8')\n",
    "    csv_buffer.seek(0)\n",
    "\n",
    "    try:\n",
    "        s3_client.upload_fileobj(csv_buffer, bucket_name, output_file)\n",
    "        print(f\"모든 데이터가 {output_file} 파일로 S3에 성공적으로 업로드되었습니다.\")\n",
    "    except Exception as e:\n",
    "        print(f\"Failed to upload combined data to S3: {e}\")\n",
    "# api_endpoints를 딕셔너리 형태로 수정\n",
    "api_endpoints = {\n",
    "    \"/15044249/v1/uddi:c2b72a04-63da-4d1c-8613-dfbd799b1a95\": \"20221231\",\n",
    "    \"/15044249/v1/uddi:796901f7-428f-4a5e-b8cd-b0a05603e3ce\": \"20231231\"\n",
    "}\n",
    "\n",
    "output_file = \"prod_data/서울교통공사_월별_승하차인원_전체데이터.csv\"\n",
    "fetch_and_save_data(api_endpoints, output_file)"
   ]
  },
  {
   "cell_type": "code",
   "execution_count": null,
   "metadata": {},
   "outputs": [],
   "source": []
  }
 ],
 "metadata": {
  "colab": {
   "provenance": []
  },
  "kernelspec": {
   "display_name": "Python 3 (ipykernel)",
   "language": "python",
   "name": "python3"
  },
  "language_info": {
   "codemirror_mode": {
    "name": "ipython",
    "version": 3
   },
   "file_extension": ".py",
   "mimetype": "text/x-python",
   "name": "python",
   "nbconvert_exporter": "python",
   "pygments_lexer": "ipython3",
   "version": "3.12.4"
  }
 },
 "nbformat": 4,
 "nbformat_minor": 4
}
