{
 "nbformat": 4,
 "nbformat_minor": 0,
 "metadata": {
  "colab": {
   "provenance": []
  },
  "kernelspec": {
   "name": "python3",
   "display_name": "Python 3 (ipykernel)",
   "language": "python"
  },
  "language_info": {
   "name": "python"
  }
 },
 "cells": [
  {
   "cell_type": "code",
   "metadata": {
    "colab": {
     "base_uri": "https://localhost:8080/"
    },
    "id": "Z9AbF9rFqGwl",
    "outputId": "ee66d703-0ee3-4cbd-f9a0-7505d4c2d1fb",
    "ExecuteTime": {
     "end_time": "2024-11-04T05:29:22.214662Z",
     "start_time": "2024-11-04T05:29:20.828516Z"
    }
   },
   "source": [
    "!pip install requests boto3\n",
    "!pip install python-dotenv"
   ],
   "outputs": [
    {
     "name": "stdout",
     "output_type": "stream",
     "text": [
      "Requirement already satisfied: requests in /Users/yjbenkang/miniconda3/lib/python3.12/site-packages (2.31.0)\r\n",
      "Requirement already satisfied: boto3 in /Users/yjbenkang/miniconda3/lib/python3.12/site-packages (1.35.54)\r\n",
      "Requirement already satisfied: charset-normalizer<4,>=2 in /Users/yjbenkang/miniconda3/lib/python3.12/site-packages (from requests) (2.0.4)\r\n",
      "Requirement already satisfied: idna<4,>=2.5 in /Users/yjbenkang/miniconda3/lib/python3.12/site-packages (from requests) (3.4)\r\n",
      "Requirement already satisfied: urllib3<3,>=1.21.1 in /Users/yjbenkang/miniconda3/lib/python3.12/site-packages (from requests) (2.1.0)\r\n",
      "Requirement already satisfied: certifi>=2017.4.17 in /Users/yjbenkang/miniconda3/lib/python3.12/site-packages (from requests) (2024.8.30)\r\n",
      "Requirement already satisfied: botocore<1.36.0,>=1.35.54 in /Users/yjbenkang/miniconda3/lib/python3.12/site-packages (from boto3) (1.35.54)\r\n",
      "Requirement already satisfied: jmespath<2.0.0,>=0.7.1 in /Users/yjbenkang/miniconda3/lib/python3.12/site-packages (from boto3) (1.0.1)\r\n",
      "Requirement already satisfied: s3transfer<0.11.0,>=0.10.0 in /Users/yjbenkang/miniconda3/lib/python3.12/site-packages (from boto3) (0.10.3)\r\n",
      "Requirement already satisfied: python-dateutil<3.0.0,>=2.1 in /Users/yjbenkang/miniconda3/lib/python3.12/site-packages (from botocore<1.36.0,>=1.35.54->boto3) (2.9.0.post0)\r\n",
      "Requirement already satisfied: six>=1.5 in /Users/yjbenkang/miniconda3/lib/python3.12/site-packages (from python-dateutil<3.0.0,>=2.1->botocore<1.36.0,>=1.35.54->boto3) (1.16.0)\r\n",
      "\r\n",
      "\u001B[1m[\u001B[0m\u001B[34;49mnotice\u001B[0m\u001B[1;39;49m]\u001B[0m\u001B[39;49m A new release of pip is available: \u001B[0m\u001B[31;49m24.2\u001B[0m\u001B[39;49m -> \u001B[0m\u001B[32;49m24.3.1\u001B[0m\r\n",
      "\u001B[1m[\u001B[0m\u001B[34;49mnotice\u001B[0m\u001B[1;39;49m]\u001B[0m\u001B[39;49m To update, run: \u001B[0m\u001B[32;49mpip install --upgrade pip\u001B[0m\r\n",
      "Requirement already satisfied: python-dotenv in /Users/yjbenkang/miniconda3/lib/python3.12/site-packages (1.0.1)\r\n",
      "\r\n",
      "\u001B[1m[\u001B[0m\u001B[34;49mnotice\u001B[0m\u001B[1;39;49m]\u001B[0m\u001B[39;49m A new release of pip is available: \u001B[0m\u001B[31;49m24.2\u001B[0m\u001B[39;49m -> \u001B[0m\u001B[32;49m24.3.1\u001B[0m\r\n",
      "\u001B[1m[\u001B[0m\u001B[34;49mnotice\u001B[0m\u001B[1;39;49m]\u001B[0m\u001B[39;49m To update, run: \u001B[0m\u001B[32;49mpip install --upgrade pip\u001B[0m\r\n"
     ]
    }
   ],
   "execution_count": 61
  },
  {
   "cell_type": "code",
   "source": [
    "import requests\n",
    "from urllib.parse import unquote\n",
    "import boto3\n",
    "import pandas as pd\n",
    "from io import BytesIO, StringIO\n",
    "import os \n",
    "from dotenv import load_dotenv"
   ],
   "metadata": {
    "id": "mI31ir7RqRvR",
    "ExecuteTime": {
     "end_time": "2024-11-04T05:29:22.219628Z",
     "start_time": "2024-11-04T05:29:22.216271Z"
    }
   },
   "outputs": [],
   "execution_count": 62
  },
  {
   "cell_type": "code",
   "source": [
    "load_dotenv()\n",
    "api_key = os.getenv(\"API_KEY\")\n",
    "base_url = os.getenv(\"BASE_URL\")\n",
    "aws_access_key_id=os.getenv('S3_AWS_ACCESS_KEY_ID')\n",
    "aws_secret_access_key=os.getenv('S3_AWS_SECRET_ACCESS_KEY') + '+6pPnSu'\n",
    "region_name=os.getenv('S3_REGION')\n",
    "bucket_name = os.getenv('S3_BUCKET_NAME')\n",
    "\n",
    "# API 엔드포인트와 저장할 파일명 딕셔너리\n",
    "api_endpoints = {\n",
    "    \"/15071311/v1/uddi:a5158b81-27c7-4151-ba6c-b912a6f13d39\": \"prod_data/서울교통공사_혼잡도_20171231.csv\",\n",
    "    \"/15071311/v1/uddi:70e3a3d3-0872-4828-8234-f0bca459b44f\": \"prod_data/서울교통공사_지하철혼잡도정보_20191231.csv\",\n",
    "    \"/15071311/v1/uddi:b3803d43-ffe3-4d17-9024-fd6cfa37c284\": \"prod_data/서울교통공사_지하철혼잡도정보_20211231.csv\",\n",
    "    \"/15071311/v1/uddi:75461a18-17a3-42fe-9322-a51148003b69\": \"prod_data/서울교통공사_지하철혼잡도정보_20221231.csv\",\n",
    "    \"/15071311/v1/uddi:99771417-a036-46f1-8ad5-8edf4591c2ee\": \"prod_data/서울교통공사_지하철혼잡도정보_20201231.csv\",\n",
    "    \"/15071311/v1/uddi:e477f1d9-2c3a-4dc8-b147-a55584583fa2\": \"prod_data/서울교통공사_지하철혼잡도정보_20231231.csv\",\n",
    "    \"/15071311/v1/uddi:c87b6af0-0ef7-4182-b172-fd2680a79d6f\": \"prod_data/서울교통공사_지하철혼잡도정보_20240331.csv\",\n",
    "    \"/15071311/v1/uddi:9aff0ee6-26e7-42c4-af0c-84bf31680ca9\": \"prod_data/서울교통공사_지하철혼잡도정보_20240630.csv\",\n",
    "    \"/15071311/v1/uddi:da7cd08f-94f0-4dba-b33d-d02dcb35b57b\": \"prod_data/서울교통공사_지하철혼잡도정보_20240930.csv\"\n",
    "}"
   ],
   "metadata": {
    "id": "GOrlDYOyqvh5",
    "ExecuteTime": {
     "end_time": "2024-11-04T05:29:22.629638Z",
     "start_time": "2024-11-04T05:29:22.621677Z"
    }
   },
   "outputs": [],
   "execution_count": 63
  },
  {
   "cell_type": "code",
   "source": [
    "s3_client = boto3.client(\n",
    "    's3',\n",
    "    aws_access_key_id=aws_access_key_id,\n",
    "    aws_secret_access_key=aws_secret_access_key,\n",
    "    region_name=region_name\n",
    ")\n",
    "\n",
    "bucket_name = bucket_name"
   ],
   "metadata": {
    "id": "MnHBYta83LTM",
    "ExecuteTime": {
     "end_time": "2024-11-04T05:29:28.407207Z",
     "start_time": "2024-11-04T05:29:28.374276Z"
    }
   },
   "outputs": [],
   "execution_count": 65
  },
  {
   "cell_type": "code",
   "source": [
    "def fetch_and_save_data(api_endpoint, file_name):\n",
    "    all_data = pd.DataFrame()\n",
    "    page = 1\n",
    "    per_page = 1000\n",
    "\n",
    "    while True:\n",
    "        url = f\"{base_url}{api_endpoint}?page={page}&perPage={per_page}&serviceKey={api_key}\"\n",
    "\n",
    "        response = requests.get(url)\n",
    "        if response.status_code == 200:\n",
    "            data = response.json()\n",
    "            if 'data' in data and data['data']:\n",
    "                df = pd.DataFrame(data['data'])\n",
    "                all_data = pd.concat([all_data, df], ignore_index=True)\n",
    "                print(f\"{file_name} - Page {page} data fetched and added.\")\n",
    "            else:\n",
    "                print(f\"No more data to fetch for {file_name}.\")\n",
    "                break\n",
    "        else:\n",
    "            print(f\"Failed to fetch data from {file_name} on page {page}: {response.status_code}\")\n",
    "            break\n",
    "\n",
    "        page += 1\n",
    "\n",
    "    csv_buffer = BytesIO()\n",
    "    all_data.to_csv(csv_buffer, index=False, encoding='utf-8')\n",
    "    csv_buffer.seek(0)\n",
    "\n",
    "    try:\n",
    "        s3_client.upload_fileobj(csv_buffer, bucket_name, file_name)\n",
    "        print(f\"{file_name} 파일이 S3에 성공적으로 업로드되었습니다.\")\n",
    "    except Exception as e:\n",
    "        print(f\"Failed to upload {file_name} to S3: {e}\")\n",
    "\n",
    "for endpoint, file_name in api_endpoints.items():\n",
    "    fetch_and_save_data(endpoint, file_name)"
   ],
   "metadata": {
    "colab": {
     "base_uri": "https://localhost:8080/"
    },
    "id": "iooq0sYkru10",
    "outputId": "beda1179-4498-4379-878d-08cad1f48f42",
    "ExecuteTime": {
     "end_time": "2024-11-04T05:29:48.062112Z",
     "start_time": "2024-11-04T05:29:36.659512Z"
    }
   },
   "outputs": [
    {
     "name": "stdout",
     "output_type": "stream",
     "text": [
      "prod_data/서울교통공사_혼잡도_20171231.csv - Page 1 data fetched and added.\n",
      "prod_data/서울교통공사_혼잡도_20171231.csv - Page 2 data fetched and added.\n",
      "No more data to fetch for prod_data/서울교통공사_혼잡도_20171231.csv.\n",
      "prod_data/서울교통공사_혼잡도_20171231.csv 파일이 S3에 성공적으로 업로드되었습니다.\n",
      "prod_data/서울교통공사_지하철혼잡도정보_20191231.csv - Page 1 data fetched and added.\n",
      "prod_data/서울교통공사_지하철혼잡도정보_20191231.csv - Page 2 data fetched and added.\n",
      "No more data to fetch for prod_data/서울교통공사_지하철혼잡도정보_20191231.csv.\n",
      "prod_data/서울교통공사_지하철혼잡도정보_20191231.csv 파일이 S3에 성공적으로 업로드되었습니다.\n",
      "prod_data/서울교통공사_지하철혼잡도정보_20211231.csv - Page 1 data fetched and added.\n",
      "prod_data/서울교통공사_지하철혼잡도정보_20211231.csv - Page 2 data fetched and added.\n",
      "No more data to fetch for prod_data/서울교통공사_지하철혼잡도정보_20211231.csv.\n",
      "prod_data/서울교통공사_지하철혼잡도정보_20211231.csv 파일이 S3에 성공적으로 업로드되었습니다.\n",
      "prod_data/서울교통공사_지하철혼잡도정보_20221231.csv - Page 1 data fetched and added.\n",
      "prod_data/서울교통공사_지하철혼잡도정보_20221231.csv - Page 2 data fetched and added.\n",
      "No more data to fetch for prod_data/서울교통공사_지하철혼잡도정보_20221231.csv.\n",
      "prod_data/서울교통공사_지하철혼잡도정보_20221231.csv 파일이 S3에 성공적으로 업로드되었습니다.\n",
      "prod_data/서울교통공사_지하철혼잡도정보_20201231.csv - Page 1 data fetched and added.\n",
      "prod_data/서울교통공사_지하철혼잡도정보_20201231.csv - Page 2 data fetched and added.\n",
      "No more data to fetch for prod_data/서울교통공사_지하철혼잡도정보_20201231.csv.\n",
      "prod_data/서울교통공사_지하철혼잡도정보_20201231.csv 파일이 S3에 성공적으로 업로드되었습니다.\n",
      "prod_data/서울교통공사_지하철혼잡도정보_20231231.csv - Page 1 data fetched and added.\n",
      "prod_data/서울교통공사_지하철혼잡도정보_20231231.csv - Page 2 data fetched and added.\n",
      "No more data to fetch for prod_data/서울교통공사_지하철혼잡도정보_20231231.csv.\n",
      "prod_data/서울교통공사_지하철혼잡도정보_20231231.csv 파일이 S3에 성공적으로 업로드되었습니다.\n",
      "prod_data/서울교통공사_지하철혼잡도정보_20240331.csv - Page 1 data fetched and added.\n",
      "prod_data/서울교통공사_지하철혼잡도정보_20240331.csv - Page 2 data fetched and added.\n",
      "No more data to fetch for prod_data/서울교통공사_지하철혼잡도정보_20240331.csv.\n",
      "prod_data/서울교통공사_지하철혼잡도정보_20240331.csv 파일이 S3에 성공적으로 업로드되었습니다.\n",
      "prod_data/서울교통공사_지하철혼잡도정보_20240630.csv - Page 1 data fetched and added.\n",
      "prod_data/서울교통공사_지하철혼잡도정보_20240630.csv - Page 2 data fetched and added.\n",
      "No more data to fetch for prod_data/서울교통공사_지하철혼잡도정보_20240630.csv.\n",
      "prod_data/서울교통공사_지하철혼잡도정보_20240630.csv 파일이 S3에 성공적으로 업로드되었습니다.\n",
      "prod_data/서울교통공사_지하철혼잡도정보_20240930.csv - Page 1 data fetched and added.\n",
      "prod_data/서울교통공사_지하철혼잡도정보_20240930.csv - Page 2 data fetched and added.\n",
      "No more data to fetch for prod_data/서울교통공사_지하철혼잡도정보_20240930.csv.\n",
      "prod_data/서울교통공사_지하철혼잡도정보_20240930.csv 파일이 S3에 성공적으로 업로드되었습니다.\n"
     ]
    }
   ],
   "execution_count": 66
  }
 ]
}
